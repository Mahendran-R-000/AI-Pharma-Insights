{
 "cells": [
  {
   "cell_type": "markdown",
   "metadata": {},
   "source": [
    " # Drug-Prescription-Review\n",
    " The model provides a comprehensive analysis of a drug review dataset using Python libraries such as NumPy, Pandas, Matplotlib, Seaborn, and NLTK.It includes data loading, initial exploration, descriptive statistics, data cleaning, visualization, text processing, feature engineering, and interactive analysis. Additionally, it utilizes ipywidgets for interactive visualizations and advanced analysis to identify common conditions and the most useful drugs. The machine learning model employed for sentiment analysis, utilizing NLTK's VADER, assesses the sentiment of drug reviews to enhance understanding of user experiences and provide valuable insights for decision-making in healthcare."
   ]
  },
  {
   "cell_type": "markdown",
   "metadata": {},
   "source": [
    "# Importing Libraries"
   ]
  },
  {
   "cell_type": "code",
   "execution_count": 63,
   "metadata": {},
   "outputs": [
    {
     "name": "stderr",
     "output_type": "stream",
     "text": [
      "[nltk_data] Downloading package stopwords to\n",
      "[nltk_data]     C:\\Users\\ravim\\AppData\\Roaming\\nltk_data...\n",
      "[nltk_data]   Package stopwords is already up-to-date!\n",
      "[nltk_data] Downloading package punkt to\n",
      "[nltk_data]     C:\\Users\\ravim\\AppData\\Roaming\\nltk_data...\n",
      "[nltk_data]   Package punkt is already up-to-date!\n",
      "[nltk_data] Downloading package vader_lexicon to\n",
      "[nltk_data]     C:\\Users\\ravim\\AppData\\Roaming\\nltk_data...\n",
      "[nltk_data]   Package vader_lexicon is already up-to-date!\n"
     ]
    },
    {
     "data": {
      "text/plain": [
       "True"
      ]
     },
     "execution_count": 63,
     "metadata": {},
     "output_type": "execute_result"
    }
   ],
   "source": [
    "#all the import statmens and neccseary files are imported here\n",
    "import numpy as np\n",
    "import pandas as pd\n",
    "import string\n",
    "import matplotlib.pyplot as plt\n",
    "import seaborn as sns\n",
    "import ipywidgets as widgets\n",
    "from ipywidgets import interact\n",
    "from nltk.corpus import stopwords\n",
    "from nltk.tokenize import word_tokenize\n",
    "from nltk.sentiment.vader import SentimentIntensityAnalyzer\n",
    "import nltk\n",
    "import re\n",
    "\n",
    "nltk.download('stopwords')\n",
    "nltk.download('punkt')\n",
    "nltk.download('vader_lexicon')"
   ]
  },
  {
   "cell_type": "markdown",
   "metadata": {},
   "source": [
    "- ### `Google Colab Connection`"
   ]
  },
  {
   "cell_type": "code",
   "execution_count": 64,
   "metadata": {},
   "outputs": [
    {
     "data": {
      "text/plain": [
       "\"\\nfrom google.colab import drive\\ndrive.mount('/content/drive/')\\n\\n#path of the dataset is given here\\npath='/content/drive/MyDrive/Drug Dataset/drug.csv'\\n\""
      ]
     },
     "execution_count": 64,
     "metadata": {},
     "output_type": "execute_result"
    }
   ],
   "source": [
    "# if you are using google colaboratory then you can mount your google drive to the notebook uncomment and use it\n",
    "'''\n",
    "from google.colab import drive\n",
    "drive.mount('/content/drive/')\n",
    "\n",
    "#path of the dataset is given here\n",
    "path='/content/drive/MyDrive/Drug Dataset/drug.csv'\n",
    "'''"
   ]
  },
  {
   "cell_type": "markdown",
   "metadata": {},
   "source": [
    "#### Visualization Aesthetics"
   ]
  },
  {
   "cell_type": "code",
   "execution_count": 65,
   "metadata": {},
   "outputs": [],
   "source": [
    "# Set up visualization aesthetics\n",
    "plt.rcParams['figure.figsize'] = (15, 5)\n",
    "plt.style.use('seaborn-v0_8-darkgrid')\n"
   ]
  },
  {
   "cell_type": "markdown",
   "metadata": {},
   "source": [
    "# Loading the Dataset"
   ]
  },
  {
   "cell_type": "code",
   "execution_count": 66,
   "metadata": {},
   "outputs": [
    {
     "name": "stdout",
     "output_type": "stream",
     "text": [
      "Dataset Dimensions: (161297, 7)\n"
     ]
    }
   ],
   "source": [
    "# Read the dataset into a pandas DataFrame\n",
    "drug_data = pd.read_csv('../DataSet/drug.csv')\n",
    "# Print dataset dimensions\n",
    "print(\"Dataset Dimensions:\", drug_data.shape)"
   ]
  },
  {
   "cell_type": "code",
   "execution_count": 67,
   "metadata": {},
   "outputs": [
    {
     "data": {
      "text/html": [
       "<div>\n",
       "<style scoped>\n",
       "    .dataframe tbody tr th:only-of-type {\n",
       "        vertical-align: middle;\n",
       "    }\n",
       "\n",
       "    .dataframe tbody tr th {\n",
       "        vertical-align: top;\n",
       "    }\n",
       "\n",
       "    .dataframe thead th {\n",
       "        text-align: right;\n",
       "    }\n",
       "</style>\n",
       "<table border=\"1\" class=\"dataframe\">\n",
       "  <thead>\n",
       "    <tr style=\"text-align: right;\">\n",
       "      <th></th>\n",
       "      <th>uniqueID</th>\n",
       "      <th>drugName</th>\n",
       "      <th>condition</th>\n",
       "      <th>review</th>\n",
       "      <th>rating</th>\n",
       "      <th>date</th>\n",
       "      <th>usefulCount</th>\n",
       "    </tr>\n",
       "  </thead>\n",
       "  <tbody>\n",
       "    <tr>\n",
       "      <th>0</th>\n",
       "      <td>206461</td>\n",
       "      <td>Valsartan</td>\n",
       "      <td>Left Ventricular Dysfunction</td>\n",
       "      <td>\"It has no side effect, I take it in combinati...</td>\n",
       "      <td>9</td>\n",
       "      <td>20-May-12</td>\n",
       "      <td>27</td>\n",
       "    </tr>\n",
       "    <tr>\n",
       "      <th>1</th>\n",
       "      <td>95260</td>\n",
       "      <td>Guanfacine</td>\n",
       "      <td>ADHD</td>\n",
       "      <td>\"My son is halfway through his fourth week of ...</td>\n",
       "      <td>8</td>\n",
       "      <td>27-Apr-10</td>\n",
       "      <td>192</td>\n",
       "    </tr>\n",
       "    <tr>\n",
       "      <th>2</th>\n",
       "      <td>92703</td>\n",
       "      <td>Lybrel</td>\n",
       "      <td>Birth Control</td>\n",
       "      <td>\"I used to take another oral contraceptive, wh...</td>\n",
       "      <td>5</td>\n",
       "      <td>14-Dec-09</td>\n",
       "      <td>17</td>\n",
       "    </tr>\n",
       "    <tr>\n",
       "      <th>3</th>\n",
       "      <td>138000</td>\n",
       "      <td>Ortho Evra</td>\n",
       "      <td>Birth Control</td>\n",
       "      <td>\"This is my first time using any form of birth...</td>\n",
       "      <td>8</td>\n",
       "      <td>3-Nov-15</td>\n",
       "      <td>10</td>\n",
       "    </tr>\n",
       "    <tr>\n",
       "      <th>4</th>\n",
       "      <td>35696</td>\n",
       "      <td>Buprenorphine / naloxone</td>\n",
       "      <td>Opiate Dependence</td>\n",
       "      <td>\"Suboxone has completely turned my life around...</td>\n",
       "      <td>9</td>\n",
       "      <td>27-Nov-16</td>\n",
       "      <td>37</td>\n",
       "    </tr>\n",
       "  </tbody>\n",
       "</table>\n",
       "</div>"
      ],
      "text/plain": [
       "   uniqueID                  drugName                     condition  \\\n",
       "0    206461                 Valsartan  Left Ventricular Dysfunction   \n",
       "1     95260                Guanfacine                          ADHD   \n",
       "2     92703                    Lybrel                 Birth Control   \n",
       "3    138000                Ortho Evra                 Birth Control   \n",
       "4     35696  Buprenorphine / naloxone             Opiate Dependence   \n",
       "\n",
       "                                              review  rating       date  \\\n",
       "0  \"It has no side effect, I take it in combinati...       9  20-May-12   \n",
       "1  \"My son is halfway through his fourth week of ...       8  27-Apr-10   \n",
       "2  \"I used to take another oral contraceptive, wh...       5  14-Dec-09   \n",
       "3  \"This is my first time using any form of birth...       8   3-Nov-15   \n",
       "4  \"Suboxone has completely turned my life around...       9  27-Nov-16   \n",
       "\n",
       "   usefulCount  \n",
       "0           27  \n",
       "1          192  \n",
       "2           17  \n",
       "3           10  \n",
       "4           37  "
      ]
     },
     "execution_count": 67,
     "metadata": {},
     "output_type": "execute_result"
    }
   ],
   "source": [
    "# Display first few records\n",
    "drug_data.head()"
   ]
  },
  {
   "cell_type": "markdown",
   "metadata": {},
   "source": [
    " ### Exploring the data"
   ]
  },
  {
   "cell_type": "code",
   "execution_count": 68,
   "metadata": {},
   "outputs": [
    {
     "name": "stdout",
     "output_type": "stream",
     "text": [
      "Unique Drugs in Dataset: 3436\n",
      "Unique Conditions in Dataset: 884\n",
      "\n",
      "Data Collection Period\n",
      "Start Date: 1-Apr-08\n",
      "End Date: 9-Sep-17\n"
     ]
    }
   ],
   "source": [
    "# Count unique drugs and conditions\n",
    "print(\"Unique Drugs in Dataset:\", drug_data['drugName'].nunique())\n",
    "print(\"Unique Conditions in Dataset:\", drug_data['condition'].nunique())\n",
    "\n",
    "# Time range of data collection\n",
    "print(\"\\nData Collection Period\")\n",
    "print(\"Start Date:\", drug_data['date'].min())\n",
    "print(\"End Date:\", drug_data['date'].max())"
   ]
  },
  {
   "cell_type": "markdown",
   "metadata": {},
   "source": [
    "### Summarizing the data"
   ]
  },
  {
   "cell_type": "code",
   "execution_count": 69,
   "metadata": {},
   "outputs": [
    {
     "data": {
      "text/html": [
       "<div>\n",
       "<style scoped>\n",
       "    .dataframe tbody tr th:only-of-type {\n",
       "        vertical-align: middle;\n",
       "    }\n",
       "\n",
       "    .dataframe tbody tr th {\n",
       "        vertical-align: top;\n",
       "    }\n",
       "\n",
       "    .dataframe thead th {\n",
       "        text-align: right;\n",
       "    }\n",
       "</style>\n",
       "<table border=\"1\" class=\"dataframe\">\n",
       "  <thead>\n",
       "    <tr style=\"text-align: right;\">\n",
       "      <th></th>\n",
       "      <th>drugName</th>\n",
       "      <th>condition</th>\n",
       "      <th>review</th>\n",
       "    </tr>\n",
       "  </thead>\n",
       "  <tbody>\n",
       "    <tr>\n",
       "      <th>count</th>\n",
       "      <td>161297</td>\n",
       "      <td>160398</td>\n",
       "      <td>161297</td>\n",
       "    </tr>\n",
       "    <tr>\n",
       "      <th>unique</th>\n",
       "      <td>3436</td>\n",
       "      <td>884</td>\n",
       "      <td>112329</td>\n",
       "    </tr>\n",
       "    <tr>\n",
       "      <th>top</th>\n",
       "      <td>Levonorgestrel</td>\n",
       "      <td>Birth Control</td>\n",
       "      <td>\"Good\"</td>\n",
       "    </tr>\n",
       "    <tr>\n",
       "      <th>freq</th>\n",
       "      <td>3657</td>\n",
       "      <td>28788</td>\n",
       "      <td>33</td>\n",
       "    </tr>\n",
       "  </tbody>\n",
       "</table>\n",
       "</div>"
      ],
      "text/plain": [
       "              drugName      condition  review\n",
       "count           161297         160398  161297\n",
       "unique            3436            884  112329\n",
       "top     Levonorgestrel  Birth Control  \"Good\"\n",
       "freq              3657          28788      33"
      ]
     },
     "execution_count": 69,
     "metadata": {},
     "output_type": "execute_result"
    }
   ],
   "source": [
    "\n",
    "# Summarize numerical columns\n",
    "drug_data[['rating', 'usefulCount']].describe()\n",
    "\n",
    "\n",
    "# Summarize categorical data\n",
    "drug_data[['drugName', 'condition', 'review']].describe(include='object')"
   ]
  },
  {
   "cell_type": "markdown",
   "metadata": {},
   "source": [
    "### Analysing the data"
   ]
  },
  {
   "cell_type": "code",
   "execution_count": 70,
   "metadata": {},
   "outputs": [
    {
     "name": "stdout",
     "output_type": "stream",
     "text": [
      "Analysis of Drugs with Zero Useful Counts\n",
      "------------------------------------------\n",
      "Count of Drugs with No Useful Count: 6318\n",
      "Count of High Rated Drugs with No Useful Count: 2633\n",
      "Average Rating of Drugs with No Useful Count: 5.80\n",
      "\n",
      "Analysis of Highly Useful Drugs\n",
      "--------------------------------\n",
      "Count of Drugs with More Than 1000 Useful Counts: 4\n",
      "Average Rating of Drugs with 1000+ Useful Counts: 10.0\n",
      "\n",
      "Drugs and Conditions with 1000+ Useful Counts:\n",
      "          drugName      condition\n",
      "0          Mirena  Birth Control\n",
      "1      Sertraline     Depression\n",
      "2  Levonorgestrel  Birth Control\n",
      "3          Zoloft     Depression\n"
     ]
    },
    {
     "name": "stderr",
     "output_type": "stream",
     "text": [
      "C:\\Users\\ravim\\AppData\\Local\\Temp\\ipykernel_2676\\1497724188.py:4: FutureWarning: Series.__getitem__ treating keys as positions is deprecated. In a future version, integer keys will always be treated as labels (consistent with DataFrame behavior). To access a value by position, use `ser.iloc[pos]`\n",
      "  print(\"Count of Drugs with No Useful Count:\", drug_data[drug_data['usefulCount'] == 0].count()[0])\n",
      "C:\\Users\\ravim\\AppData\\Local\\Temp\\ipykernel_2676\\1497724188.py:5: FutureWarning: Series.__getitem__ treating keys as positions is deprecated. In a future version, integer keys will always be treated as labels (consistent with DataFrame behavior). To access a value by position, use `ser.iloc[pos]`\n",
      "  print(\"Count of High Rated Drugs with No Useful Count:\", drug_data[(drug_data['usefulCount'] == 0) & (drug_data['rating'] >= 8)].count()[0])\n",
      "C:\\Users\\ravim\\AppData\\Local\\Temp\\ipykernel_2676\\1497724188.py:11: FutureWarning: Series.__getitem__ treating keys as positions is deprecated. In a future version, integer keys will always be treated as labels (consistent with DataFrame behavior). To access a value by position, use `ser.iloc[pos]`\n",
      "  print(\"Count of Drugs with More Than 1000 Useful Counts:\", drug_data[drug_data['usefulCount'] > 1000].count()[0])\n"
     ]
    }
   ],
   "source": [
    "\n",
    "# Analysis of drugs with zero useful counts\n",
    "print(\"Analysis of Drugs with Zero Useful Counts\")\n",
    "print(\"------------------------------------------\")\n",
    "print(\"Count of Drugs with No Useful Count:\", drug_data[drug_data['usefulCount'] == 0].count()[0])\n",
    "print(\"Count of High Rated Drugs with No Useful Count:\", drug_data[(drug_data['usefulCount'] == 0) & (drug_data['rating'] >= 8)].count()[0])\n",
    "print(\"Average Rating of Drugs with No Useful Count: {:.2f}\".format(drug_data[drug_data['usefulCount'] == 0]['rating'].mean()))\n",
    "\n",
    "# Analysis of highly useful drugs\n",
    "print(\"\\nAnalysis of Highly Useful Drugs\")\n",
    "print(\"--------------------------------\")\n",
    "print(\"Count of Drugs with More Than 1000 Useful Counts:\", drug_data[drug_data['usefulCount'] > 1000].count()[0])\n",
    "print(\"Average Rating of Drugs with 1000+ Useful Counts:\", drug_data[drug_data['usefulCount'] > 1000]['rating'].mean())\n",
    "print(\"\\nDrugs and Conditions with 1000+ Useful Counts:\\n\", drug_data[drug_data['usefulCount'] > 1000][['drugName', 'condition']].reset_index(drop=True))"
   ]
  },
  {
   "cell_type": "markdown",
   "metadata": {},
   "source": [
    "# Preprocessing"
   ]
  },
  {
   "cell_type": "markdown",
   "metadata": {},
   "source": [
    "### `Missing Values`"
   ]
  },
  {
   "cell_type": "code",
   "execution_count": 71,
   "metadata": {},
   "outputs": [
    {
     "name": "stdout",
     "output_type": "stream",
     "text": [
      "Missing Values:\n",
      " uniqueID         0\n",
      "drugName         0\n",
      "condition      899\n",
      "review           0\n",
      "rating           0\n",
      "date             0\n",
      "usefulCount      0\n",
      "dtype: int64\n",
      "Remaining Missing Values: 0\n"
     ]
    }
   ],
   "source": [
    "\n",
    "# Check for missing values\n",
    "print(\"Missing Values:\\n\", drug_data.isnull().sum())\n",
    "\n",
    "# Drop rows with missing 'condition'\n",
    "drug_data_cleaned = drug_data.dropna()\n",
    "print(\"Remaining Missing Values:\", drug_data_cleaned.isnull().sum().sum())"
   ]
  },
  {
   "cell_type": "markdown",
   "metadata": {},
   "source": [
    "### `Hidden Patterns`"
   ]
  },
  {
   "cell_type": "code",
   "execution_count": 72,
   "metadata": {},
   "outputs": [
    {
     "data": {
      "image/png": "[encoded data removed]",
      "text/plain": [
       "<Figure size 1500x400 with 2 Axes>"
      ]
     },
     "metadata": {},
     "output_type": "display_data"
    }
   ],
   "source": [
    "\n",
    "# Plot distribution of rating and useful counts\n",
    "plt.rcParams['figure.figsize'] = (15, 4)\n",
    "\n",
    "plt.subplot(1, 2, 1)\n",
    "sns.histplot(drug_data_cleaned['rating'], kde=True, color='purple')\n",
    "plt.title('Rating Distribution')\n",
    "\n",
    "plt.subplot(1, 2, 2)\n",
    "sns.histplot(drug_data_cleaned['usefulCount'], kde=True, color='teal')\n",
    "plt.title('Useful Count Distribution')\n",
    "\n",
    "plt.suptitle('Rating and Useful Count Distribution', fontsize=20)\n",
    "plt.show()\n"
   ]
  },
  {
   "cell_type": "code",
   "execution_count": 73,
   "metadata": {},
   "outputs": [
    {
     "name": "stderr",
     "output_type": "stream",
     "text": [
      "C:\\Users\\ravim\\AppData\\Local\\Temp\\ipykernel_2676\\4257135920.py:3: FutureWarning: \n",
      "\n",
      "Passing `palette` without assigning `hue` is deprecated and will be removed in v0.14.0. Assign the `x` variable to `hue` and set `legend=False` for the same effect.\n",
      "\n",
      "  sns.barplot(x=drug_data_cleaned['rating'], y=drug_data_cleaned['usefulCount'], palette='viridis')\n"
     ]
    },
    {
     "data": {
      "image/png": "[encoded data removed]",
      "text/plain": [
       "<Figure size 1500x400 with 1 Axes>"
      ]
     },
     "metadata": {},
     "output_type": "display_data"
    }
   ],
   "source": [
    "# Plot relationship between ratings and usefulness\n",
    "plt.figure(figsize=(15, 4))\n",
    "sns.barplot(x=drug_data_cleaned['rating'], y=drug_data_cleaned['usefulCount'], palette='viridis')\n",
    "plt.xlabel('Ratings')\n",
    "plt.ylabel('Useful Count')\n",
    "plt.title('Ratings vs. Usefulness')\n",
    "plt.grid()\n",
    "plt.show()\n"
   ]
  },
  {
   "cell_type": "markdown",
   "metadata": {},
   "source": [
    "### `Impact of Reviews`"
   ]
  },
  {
   "cell_type": "code",
   "execution_count": 74,
   "metadata": {},
   "outputs": [
    {
     "name": "stdout",
     "output_type": "stream",
     "text": [
      "Longest Review Length: 10787\n",
      "\"Two and a half months ago I was prescribed Venlafaxine to help prevent chronic migraines.\n",
      "It did help the migraines (reduced them by almost half), but with it came a host of side effects that were far worse than the problem I was trying to get rid of.\n",
      "Having now come off of the stuff, I would not recommend anyone ever use Venlafaxine unless they suffer from extreme / suicidal depression. I mean extreme in the most emphatic sense of the word. \n",
      "Before trying Venlafaxine, I was a writer. While on Venlafaxine, I could barely write or speak or communicate at all. More than that, I just didn&#039;t want to. Not normal for a usually outgoing extrovert.\n",
      "Now, I&#039;m beginning to write again - but my ability to speak and converse with others has deteriorated by about 95%. Writing these words is taking forever; keeping up in conversation with even one person is impossible, and I barely see the point of trying either. On Venlafaxine, words pretty much left me - my conversational vocabulary  was whittled down to the following:\n",
      "&quot;Mmm&quot; for yes; a sharp and clipped &quot;Mm&quot; for &quot;No&quot;\n",
      "&quot;Okay.&quot;\n",
      "&quot;Really?&quot;\n",
      "&quot;Oh right.&quot;\n",
      "&quot;Cool.&quot;\n",
      "&quot;That sucks&quot;\n",
      "At the moment, I&#039;m a week into withdrawal, and I have to try extremely hard just to make the most mundane small talk. Last night I went to a party with some close friends, cheesy &#039;90s music, and a barbecue. About half of them are academics, and I couldn&#039;t keep up with conversations I normally would be able to; the other half like to dance and party, but I felt glued to my seat (as well as practically mute) and eventually walked off and found a quiet sofa to lie down on.\n",
      "I have never felt so isolated and lonely in my life. Thanks Venlafaxine.\n",
      "If you consider yourself a social, creative, and curious person, DO NOT TAKE EVEN ONE DOSE OF VENLAFAXINE. Unless of course you are extremely extremely depressed. I&#039;ve suffered from depression in the past, but only mildly. Venlafaxine has shown me what true depression feels like.\n",
      "As for the other side effects:\n",
      "- About two days&#039; worth of total joyful euphoria during the first 48 hours of taking Venlafaxine. Anxiety of all kinds evaporated. This felt amazing - although I can&#039;t remember what it felt like now. At the time, this extremely brief effect was powerful enough to make me feel that pushing on with Venlafaxine would be a Good Idea.\n",
      "- After that, I started feeling very sleepy. All the time. I slept more. No euphoria; more anxiety.\n",
      "- A week later, the night sweats started. My room was pretty cold (it was only spring in the UK), but I sweated more than I ever have on any tropical holiday. This meant that despite being extremely sleepy, I couldn&#039;t sleep.\n",
      "Since the side effects were supposed to wear off after six weeks or so, I stuck with Venlafaxine for six weeks. Over that time I became so sleep deprived that I lived in a state of permanent exhaustion.\n",
      "Enter the writer&#039;s worst enemy: Brain fog. I spent entire days so braindead that the most challenging thing I could manage was staring blankly at a wall - or lifting my phone to read text messages and attempt to learn something from articles about Venlafaxine. I&#039;ve read the same articles countless times, but nothing sank in; every time I read the same article it felt like I was reading it for the first time. I recognised the layout and design of each webpage, and that way I was able to realise I&#039;d read it before, but the actual text went in one eye and out the other.\n",
      "In conversation, I had a brain like a sieve. Words went in one ear and out the other. Normally, I could pump out a lot of writing on a regular basis; on Venlafaxine, I wrote a small and frankly pitiful handful of short and uninspired pieces, and that was it. If you love being productive and creative, do not go near Venlafaxine.\n",
      "The above was my life for six weeks - and that was enough. I did see family and friends while on Venlafaxine, but I constantly forgot what was going on and must have seemed scatterbrained or borderline retarded at times. Although I did explain to people what was going on with my medication, it just seemed to make people uncomfortable - and I&#039;ve now become the butt of a lot of jokes relating to my consistent uselessness at everything from chatting to party games and my inability to work or do anything productive. Someone even compared me to Lenny from Of Mice And Men and asked when my family were going to take me into the back garden and shoot me in the head rather than continue to care for me. All of this contributed to the worst feeling of loneliness and isolation I have ever experienced in my life.\n",
      "Venlafaxine not only trapped me inside my head - it also emptied my head of anything worth remembering, and left me barely able to learn new things. \n",
      "I&#039;d sit around tables with people and realise I couldn&#039;t remember the names of people I&#039;d know for years - or even family members. \n",
      "I&#039;d hear a song playing and say &quot;Hey - what&#039;s the name of this dance?&quot;\n",
      "Any sentence longer than a few words requires a minute or so to compose when written. Spoken out loud? Forget about it. When I try to speak, I sound like the Goon from Popeye.\n",
      "After six weeks of hell, my doctor and I agreed to taper off my 75mg daily dose. This process lasted a month, not following a particular schedule (which might have been a better idea), and was mostly side effect free until I came down to 18.25mg a day - one half of one 37.5mg tablet.\n",
      "After three days of that, it really hit the fan. I got up one day, pottered around a bit, and suddenly decided that I wanted to kill myself. Literally out of nowhere.\n",
      "Fortunately I was of sound enough mind to call the Samaritans, who recommended I call the emergency services, who sent an ambulance to take me to hospital. For suicidal thoughts. \n",
      "To be honest, I&#039;d rather have gone to Disneyland.\n",
      "Once I was in A&amp;E, I got to wait for several hours, just stewing in a room with a sofa and not much else. Then I met the most useless doctor of all time. After I refused his suggestion that I not only go back on Venlafaxine, but *try a higher dose* than the one that got me into this mess in the first place, he said there wasn&#039;t anything else they could do - and handed me a little leaflet for a local mental health charity meetup that happens every so often.\n",
      "By this point I&#039;d decided that suicide would not be the best option - and nor would going on even more Venlafaxine than before. I also binned the leaflet on my way out, determined to keep going and just deal with the withdrawal.\n",
      "Since that time, my intelligence level has plummeted to the point of being humiliating. But that&#039;s not even the worst of it.\n",
      "As I mentioned before, I started taking Venlafaxine for migraines. Now that I&#039;m not taking it, they&#039;re coming back again - but they&#039;ve also changed.\n",
      "A few days ago, days before the party I should probably have stayed home for only I couldn&#039;t stand sitting at home any longer so I went and ended up alone in a darkened room and felt more depressed than I have in my entire life, I was at home when I collapsed. The right side of my body gave way, I hit the wall, and fell on the floor where I lay frozen for God knows how long. Then when I did get up, I realised I couldn&#039;t speak at all, the right side of my body was almost paralysed, and the right side of my head was numb on the outside, and in agony on the inside.\n",
      "After calling the emergency services again, I was taken through the standard questions I guess they ask everyone when they think the person in question is having a stroke. Like the suicidal thoughts, stroke symptoms were a new experience for me. Thanks, Venlafaxine.\n",
      "When the ambulance arrived, they were able to reassure me that I wasn&#039;t having a stroke, as one side of my face wasn&#039;t drooping. This was good news - but since they couldn&#039;t explain what was actually going on, I was taking to hospital for a brain scan and blood tests and a meeting with a doctor who told me I&#039;d had a right-sided hemiplegic migraine. I&#039;d never had one before, and didn&#039;t know they existed until then; my migraines have always felt like my head is both in a vice and exploding at the same time, and I get them across my whole head, not just one side.\n",
      "At this point, I&#039;m determined to continue fighting the withdrawal symptoms. The only thing that&#039;s really helped me in doing this was the discovery of a cognitive distortion called &quot;emotional reasoning&quot;. This involves assuming that because you feel bad, things must actually be bad.\n",
      "Obviously emotional reasoning (which is worth Googling as it&#039;s quite an in depth subject, or at least feels like it given that my brain&#039;s been hopefully temporarily damaged by Venlafaxine) is pretty common in depression. It&#039;s also been my brain&#039;s default way of operating possibly for as long as I can remember, but definitely since I started taking Venlafaxine. The emotional and physical and psychological rollercoaster Venlafaxine puts you through is utterly exhausting - and while it&#039;s throwing you all over the place and especially during withdrawal it&#039;s tough to keep in mind that a lot of the negative thoughts your mind throws up are going to be based on how you feel (i.e. the levels and mix of different chemicals in your brain), NOT on any Real Life Stuff. You&#039;ll most likely unintentionally filter out all the good stuff in your brain and only remember the darkest and worst things you possibly can, and attach all kinds of apparently logical arguments to make a case against yourself / a case that argues that you and your life are awful.\n",
      "Looking back on this experience, my thoughts were similar to one of those films you see advertised as &quot;...based on a true story&quot;. Works of fiction based very loosely on facts.\n",
      "Rather than a film you&#039;d give two stars and never watch again, emotional reasoning&#039;s end product is a lie - not to mention the most toxic thoughts a human being can think. Depression can definitely make people tell these lies to themselves - but Venlafaxine made my brain malfunction so badly that putting together an apparently sensible argument for any depressive thoughts suddenly seemed like the most obvious thing in the world one day.\n",
      "If I hadn&#039;t had those thoughts, I would&#039;ve just made lunch.\n",
      "So that&#039;s about it for now - if I don&#039;t update this story in the future, assume I got better and decided to never revisit this page again, preferring to leave Venlafaxine and its horrific toxicity behind me. Good luck with your own journey :)\"\n"
     ]
    },
    {
     "name": "stderr",
     "output_type": "stream",
     "text": [
      "C:\\Users\\ravim\\AppData\\Local\\Temp\\ipykernel_2676\\2680154400.py:2: SettingWithCopyWarning: \n",
      "A value is trying to be set on a copy of a slice from a DataFrame.\n",
      "Try using .loc[row_indexer,col_indexer] = value instead\n",
      "\n",
      "See the caveats in the documentation: https://pandas.pydata.org/pandas-docs/stable/user_guide/indexing.html#returning-a-view-versus-a-copy\n",
      "  drug_data_cleaned['review_length'] = drug_data_cleaned['review'].apply(len)\n"
     ]
    }
   ],
   "source": [
    "# Add a column for review length\n",
    "drug_data_cleaned['review_length'] = drug_data_cleaned['review'].apply(len)\n",
    "drug_data_cleaned[['rating', 'review_length']].groupby('rating').agg(['min', 'mean', 'max'])\n",
    "\n",
    "# Longest review\n",
    "print(\"Longest Review Length:\", drug_data_cleaned['review_length'].max())\n",
    "print(drug_data_cleaned['review'][drug_data_cleaned['review_length'] == drug_data_cleaned['review_length'].max()].iloc[0])"
   ]
  },
  {
   "cell_type": "markdown",
   "metadata": {},
   "source": [
    "### `Cleaning Reviews`"
   ]
  },
  {
   "cell_type": "code",
   "execution_count": 75,
   "metadata": {},
   "outputs": [
    {
     "name": "stderr",
     "output_type": "stream",
     "text": [
      "C:\\Users\\ravim\\AppData\\Local\\Temp\\ipykernel_2676\\323731109.py:5: SettingWithCopyWarning: \n",
      "A value is trying to be set on a copy of a slice from a DataFrame.\n",
      "Try using .loc[row_indexer,col_indexer] = value instead\n",
      "\n",
      "See the caveats in the documentation: https://pandas.pydata.org/pandas-docs/stable/user_guide/indexing.html#returning-a-view-versus-a-copy\n",
      "  drug_data_cleaned['review'] = drug_data_cleaned['review'].apply(clean_punctuation)\n"
     ]
    }
   ],
   "source": [
    "# Remove punctuation from reviews\n",
    "def clean_punctuation(text):\n",
    "    return ''.join([char for char in text if char not in string.punctuation])\n",
    "\n",
    "drug_data_cleaned['review'] = drug_data_cleaned['review'].apply(clean_punctuation)\n"
   ]
  },
  {
   "cell_type": "code",
   "execution_count": 76,
   "metadata": {},
   "outputs": [
    {
     "name": "stderr",
     "output_type": "stream",
     "text": [
      "C:\\Users\\ravim\\AppData\\Local\\Temp\\ipykernel_2676\\3753182255.py:7: SettingWithCopyWarning: \n",
      "A value is trying to be set on a copy of a slice from a DataFrame.\n",
      "Try using .loc[row_indexer,col_indexer] = value instead\n",
      "\n",
      "See the caveats in the documentation: https://pandas.pydata.org/pandas-docs/stable/user_guide/indexing.html#returning-a-view-versus-a-copy\n",
      "  drug_data_cleaned['review'] = drug_data_cleaned['review'].apply(clean_stopwords)\n",
      "C:\\Users\\ravim\\AppData\\Local\\Temp\\ipykernel_2676\\3753182255.py:13: SettingWithCopyWarning: \n",
      "A value is trying to be set on a copy of a slice from a DataFrame.\n",
      "Try using .loc[row_indexer,col_indexer] = value instead\n",
      "\n",
      "See the caveats in the documentation: https://pandas.pydata.org/pandas-docs/stable/user_guide/indexing.html#returning-a-view-versus-a-copy\n",
      "  drug_data_cleaned['review'] = drug_data_cleaned['review'].apply(clean_numbers)\n"
     ]
    }
   ],
   "source": [
    "\n",
    "custom_stopwords = set(stopwords.words('english')).union({\"i'm\"})\n",
    "\n",
    "def clean_stopwords(text):\n",
    "    tokens = word_tokenize(text)\n",
    "    return ' '.join([word.lower() for word in tokens if word.lower() not in custom_stopwords])\n",
    "\n",
    "drug_data_cleaned['review'] = drug_data_cleaned['review'].apply(clean_stopwords)\n",
    "\n",
    "# Remove numbers from reviews\n",
    "def clean_numbers(text):\n",
    "    return ' '.join([word for word in text.split() if not re.search(r'\\d', word)])\n",
    "\n",
    "drug_data_cleaned['review'] = drug_data_cleaned['review'].apply(clean_numbers)\n"
   ]
  },
  {
   "cell_type": "markdown",
   "metadata": {},
   "source": [
    "# Sentiment Analysis"
   ]
  },
  {
   "cell_type": "markdown",
   "metadata": {},
   "source": [
    "### `From Reviews`"
   ]
  },
  {
   "cell_type": "code",
   "execution_count": 77,
   "metadata": {},
   "outputs": [
    {
     "name": "stderr",
     "output_type": "stream",
     "text": [
      "C:\\Users\\ravim\\AppData\\Local\\Temp\\ipykernel_2676\\652855598.py:3: SettingWithCopyWarning: \n",
      "A value is trying to be set on a copy of a slice from a DataFrame.\n",
      "Try using .loc[row_indexer,col_indexer] = value instead\n",
      "\n",
      "See the caveats in the documentation: https://pandas.pydata.org/pandas-docs/stable/user_guide/indexing.html#returning-a-view-versus-a-copy\n",
      "  drug_data_cleaned['sentiment'] = drug_data_cleaned['review'].apply(lambda x: sid.polarity_scores(x)['compound'])\n"
     ]
    }
   ],
   "source": [
    "# Calculate sentiment scores\n",
    "sid = SentimentIntensityAnalyzer()\n",
    "drug_data_cleaned['sentiment'] = drug_data_cleaned['review'].apply(lambda x: sid.polarity_scores(x)['compound'])\n",
    "\n",
    "# Drop unnecessary columns\n",
    "drug_data_cleaned = drug_data_cleaned.drop(['date', 'uniqueID', 'review', 'review_length', 'sentiment'], axis=1)\n",
    "\n"
   ]
  },
  {
   "cell_type": "markdown",
   "metadata": {},
   "source": [
    "## Scores Calculation"
   ]
  },
  {
   "cell_type": "markdown",
   "metadata": {},
   "source": [
    "### `Effective Score`"
   ]
  },
  {
   "cell_type": "code",
   "execution_count": 78,
   "metadata": {},
   "outputs": [],
   "source": [
    "# Scale ratings to create an effective score\n",
    "min_rating = drug_data_cleaned['rating'].min()\n",
    "max_rating = drug_data_cleaned['rating'].max()\n",
    "\n",
    "def calculate_effective_score(rating):\n",
    "    scaled_rating = (rating - min_rating) / (max_rating - min_rating) * 5\n",
    "    return 0 if scaled_rating <= 2 else 1\n",
    "\n",
    "drug_data_cleaned['effective_score'] = drug_data_cleaned['rating'].apply(calculate_effective_score)"
   ]
  },
  {
   "cell_type": "markdown",
   "metadata": {},
   "source": [
    "###  `Usefulness Score`"
   ]
  },
  {
   "cell_type": "code",
   "execution_count": 79,
   "metadata": {},
   "outputs": [
    {
     "name": "stdout",
     "output_type": "stream",
     "text": [
      "         drugName      condition  rating  usefulCount  effective_score  \\\n",
      "0          Zoloft     Depression      10         1291                1   \n",
      "1      Sertraline     Depression      10         1291                1   \n",
      "2          Mirena  Birth Control      10         1247                1   \n",
      "3  Levonorgestrel  Birth Control      10         1247                1   \n",
      "4          Zoloft     Depression       9          949                1   \n",
      "5     Phentermine    Weight Loss      10          796                1   \n",
      "6        Adipex-P    Weight Loss      10          796                1   \n",
      "7        Implanon  Birth Control      10          730                1   \n",
      "8         Viibryd     Depression      10          693                1   \n",
      "9      Vilazodone     Depression      10          693                1   \n",
      "\n",
      "   usefulness_score  \n",
      "0             12910  \n",
      "1             12910  \n",
      "2             12470  \n",
      "3             12470  \n",
      "4              8541  \n",
      "5              7960  \n",
      "6              7960  \n",
      "7              7300  \n",
      "8              6930  \n",
      "9              6930  \n"
     ]
    }
   ],
   "source": [
    "# Calculate usefulness score\n",
    "drug_data_cleaned['usefulness_score'] = drug_data_cleaned['rating'] * drug_data_cleaned['usefulCount'] * drug_data_cleaned['effective_score']\n",
    "\n",
    "# Top 10 most useful drugs\n",
    "top_useful_drugs = drug_data_cleaned[drug_data_cleaned['usefulness_score'] > drug_data_cleaned['usefulness_score'].mean()]\n",
    "top_useful_drugs = top_useful_drugs.sort_values(by='usefulness_score', ascending=False).head(10).reset_index(drop=True)\n",
    "print(top_useful_drugs)"
   ]
  },
  {
   "cell_type": "markdown",
   "metadata": {},
   "source": [
    "# Widgets"
   ]
  },
  {
   "cell_type": "markdown",
   "metadata": {},
   "source": [
    "## Check Effective Score"
   ]
  },
  {
   "cell_type": "code",
   "execution_count": 80,
   "metadata": {},
   "outputs": [
    {
     "data": {
      "application/vnd.jupyter.widget-view+json": {
       "model_id": "2d428f5291b146568509e7ddd36356c1",
       "version_major": 2,
       "version_minor": 0
      },
      "text/plain": [
       "interactive(children=(Dropdown(description='condition', options=('Birth Control', 'Depression', 'Pain', 'Anxie…"
      ]
     },
     "metadata": {},
     "output_type": "display_data"
    },
    {
     "data": {
      "image/png": "[encoded data removed]",
      "text/plain": [
       "<Figure size 1500x500 with 1 Axes>"
      ]
     },
     "metadata": {},
     "output_type": "display_data"
    }
   ],
   "source": [
    "\n",
    "# Interactive widget to check effective score counts by condition\n",
    "@interact\n",
    "def check_effective_scores(condition=list(drug_data_cleaned['condition'].value_counts().index)):\n",
    "    return drug_data_cleaned[drug_data_cleaned['condition'] == condition]['effective_score'].value_counts()\n",
    "\n",
    "# Visualize conditions vs effective number of drugs\n",
    "popular_conditions = ['Birth Control', 'Depression', 'Pain', 'Anxiety', 'Acne', 'Bipolar Disorde', 'Insomnia', 'Weight Loss', 'Obesity', 'ADHD', 'Diabetes, Type 2', 'Emergency Contraception', 'High Blood Pressure', 'Migrane']\n",
    "conditions_filtered = drug_data_cleaned[drug_data_cleaned['condition'].isin(popular_conditions)]\n",
    "\n",
    "plt.figure(figsize=(15, 5))\n",
    "sns.barplot(x=conditions_filtered['condition'], y=conditions_filtered['rating'], hue=conditions_filtered['effective_score'], palette='Set2')\n",
    "plt.title('Conditions vs Effective Number of Drugs')\n",
    "plt.xticks(rotation=90)\n",
    "plt.ylabel('Rating')\n",
    "plt.show()"
   ]
  },
  {
   "cell_type": "code",
   "execution_count": 81,
   "metadata": {},
   "outputs": [
    {
     "name": "stdout",
     "output_type": "stream",
     "text": [
      "Most Common Conditions:\n",
      "condition\n",
      "Birth Control      28788\n",
      "Depression          9069\n",
      "Pain                6145\n",
      "Anxiety             5904\n",
      "Acne                5588\n",
      "Bipolar Disorde     4224\n",
      "Insomnia            3673\n",
      "Weight Loss         3609\n",
      "Obesity             3568\n",
      "ADHD                3383\n",
      "Name: count, dtype: int64\n",
      "         drugName      condition  rating  usefulCount  effective_score  \\\n",
      "0          Zoloft     Depression      10         1291                1   \n",
      "1      Sertraline     Depression      10         1291                1   \n",
      "2  Levonorgestrel  Birth Control      10         1247                1   \n",
      "3          Mirena  Birth Control      10         1247                1   \n",
      "4          Zoloft     Depression       9          949                1   \n",
      "5        Adipex-P    Weight Loss      10          796                1   \n",
      "6     Phentermine    Weight Loss      10          796                1   \n",
      "7          Celexa     Depression       8          771                1   \n",
      "8      Citalopram     Depression       8          771                1   \n",
      "9        Implanon  Birth Control      10          730                1   \n",
      "\n",
      "   usefulness_score  \n",
      "0             12910  \n",
      "1             12910  \n",
      "2             12470  \n",
      "3             12470  \n",
      "4              8541  \n",
      "5              7960  \n",
      "6              7960  \n",
      "7              6168  \n",
      "8              6168  \n",
      "9              7300  \n"
     ]
    }
   ],
   "source": [
    "# Most common conditions\n",
    "print(\"Most Common Conditions:\")\n",
    "print(drug_data_cleaned['condition'].value_counts().head(10))\n",
    "\n",
    "# Drugs with highest usefulness counts\n",
    "top_useful_counts = drug_data_cleaned[drug_data_cleaned['usefulCount'] > drug_data_cleaned['usefulCount'].mean()]\n",
    "top_useful_counts = top_useful_counts.sort_values(by='usefulCount', ascending=False).head(10).reset_index(drop=True)\n",
    "print(top_useful_counts)"
   ]
  },
  {
   "cell_type": "code",
   "execution_count": 82,
   "metadata": {},
   "outputs": [],
   "source": [
    "drug_data_cleaned = drug_data_cleaned.drop_duplicates()"
   ]
  },
  {
   "cell_type": "markdown",
   "metadata": {},
   "source": [
    "## Drug Rates for Each Condition\n"
   ]
  },
  {
   "cell_type": "code",
   "execution_count": 83,
   "metadata": {},
   "outputs": [
    {
     "data": {
      "application/vnd.jupyter.widget-view+json": {
       "model_id": "289a65fb5e9847f186e74538a9149776",
       "version_major": 2,
       "version_minor": 0
      },
      "text/plain": [
       "interactive(children=(Dropdown(description='condition', options=('Birth Control', 'Depression', 'Pain', 'Anxie…"
      ]
     },
     "metadata": {},
     "output_type": "display_data"
    }
   ],
   "source": [
    "# Remove duplicates\n",
    "\n",
    "# Highest and lowest rated drugs for each condition\n",
    "@interact\n",
    "def rate_drugs_by_condition(condition=list(drug_data_cleaned['condition'].value_counts().index)):\n",
    "    condition_data = drug_data_cleaned[drug_data_cleaned['condition'] == condition]\n",
    "    print(\"\\n Top 5 Drugs\")\n",
    "    print(condition_data[['drugName', 'usefulness_score']].sort_values(by='usefulness_score', ascending=False).head().reset_index(drop=True))\n",
    "    print(\"\\n\\n Bottom 5 Drugs\")\n",
    "    print(condition_data[['drugName', 'usefulness_score']].sort_values(by='usefulness_score', ascending=True).head().reset_index(drop=True))"
   ]
  },
  {
   "cell_type": "markdown",
   "metadata": {},
   "source": [
    "## Pickle Conversion"
   ]
  },
  {
   "cell_type": "code",
   "execution_count": 84,
   "metadata": {},
   "outputs": [],
   "source": [
    "import pickle\n",
    "\n",
    "# Save to a pickle file in Google Drive folder (Google Colab Usage)\n",
    "#pick_insert = open('/content/drive/MyDrive/Drug Dataset/data.pickle','wb')\n",
    "#pickle.dump(drug_data_cleaned,pick_insert)\n",
    "\n",
    "\n",
    "# Save cleaned data to a pickle file in local folder\n",
    "with open('data.pkl', 'wb') as f:\n",
    "    pickle.dump(drug_data_cleaned, f)"
   ]
  }
 ],
 "metadata": {
  "kernelspec": {
   "display_name": "Python 3",
   "language": "python",
   "name": "python3"
  },
  "language_info": {
   "codemirror_mode": {
    "name": "ipython",
    "version": 3
   },
   "file_extension": ".py",
   "mimetype": "text/x-python",
   "name": "python",
   "nbconvert_exporter": "python",
   "pygments_lexer": "ipython3",
   "version": "3.11.4"
  }
 },
 "nbformat": 4,
 "nbformat_minor": 2
}
